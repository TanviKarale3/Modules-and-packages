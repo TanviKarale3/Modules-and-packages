{
 "cells": [
  {
   "cell_type": "code",
   "execution_count": 1,
   "id": "4a749909-4dfa-4ccb-afd2-0862f268539e",
   "metadata": {},
   "outputs": [
    {
     "name": "stdout",
     "output_type": "stream",
     "text": [
      "ram\n",
      "shyam\n",
      "gopal\n"
     ]
    }
   ],
   "source": [
    "# iterables and iterators\n",
    "\n",
    "lst=[\"ram\",\"shyam\",\"gopal\"]\n",
    "p = iter(lst)\n",
    "print(next(p))\n",
    "print(next(p))\n",
    "print(next(p))\n",
    "      "
   ]
  },
  {
   "cell_type": "code",
   "execution_count": 3,
   "id": "259e9428-6545-4177-95c4-c0f7fcc9c525",
   "metadata": {},
   "outputs": [
    {
     "name": "stdout",
     "output_type": "stream",
     "text": [
      "ram\n",
      "shyam\n",
      "gopal\n",
      "shreya\n",
      "neha\n",
      "tanvi\n",
      "['ram', 'shyam', 'gopal', 'shreya', 'neha', 'tanvi']\n"
     ]
    }
   ],
   "source": [
    "# itertool module\n",
    "# chain(*iterables)\n",
    "\n",
    "from itertools import *\n",
    "\n",
    "b = [\"ram\",\"shyam\",\"gopal\"]\n",
    "g = [\"shreya\",\"neha\",\"tanvi\"]\n",
    "\n",
    "for nms in chain(b,g):\n",
    "    print(nms)\n",
    "\n",
    "# or using lst\n",
    "\n",
    "lst = list(chain(b,g))\n",
    "print(lst)"
   ]
  },
  {
   "cell_type": "code",
   "execution_count": 5,
   "id": "82a1df94-cd43-4a2c-9b4a-b4df29d89339",
   "metadata": {},
   "outputs": [
    {
     "name": "stdout",
     "output_type": "stream",
     "text": [
      "ram\n",
      "shyam\n",
      "gopal\n",
      "ram\n",
      "shyam\n"
     ]
    }
   ],
   "source": [
    "#usnig cycle iterable\n",
    "\n",
    "from itertools import *\n",
    "\n",
    "b = [\"ram\",\"shyam\",\"gopal\"]\n",
    "\n",
    "p=cycle(b)\n",
    "\n",
    "for i in range(1,6):\n",
    "    print(next(p))"
   ]
  },
  {
   "cell_type": "code",
   "execution_count": 6,
   "id": "cb3dfe93-0ce8-4522-a326-14a0e2195f1f",
   "metadata": {},
   "outputs": [
    {
     "name": "stdout",
     "output_type": "stream",
     "text": [
      "seeta gupta\n",
      "geeta mishra\n",
      "yogita karale\n",
      "ram deshmukh\n"
     ]
    }
   ],
   "source": [
    "# zip (*iterable)\n",
    "\n",
    "fnames = [\"seeta\",\"geeta\",\"yogita\",\"ram\"]\n",
    "\n",
    "lnames = [\"gupta\",\"mishra\",\"karale\",\"deshmukh\"]\n",
    "\n",
    "for fnames,lnames in zip(fnames,lnames):\n",
    "    print(fnames,lnames)"
   ]
  },
  {
   "cell_type": "code",
   "execution_count": 7,
   "id": "c42130ed-cf34-423f-a959-30d6f614cd2b",
   "metadata": {},
   "outputs": [],
   "source": [
    "#simiparly we can use combinations "
   ]
  },
  {
   "cell_type": "code",
   "execution_count": null,
   "id": "eb2b959e-52b8-4aec-819c-a14da2ba7cb4",
   "metadata": {},
   "outputs": [],
   "source": []
  }
 ],
 "metadata": {
  "kernelspec": {
   "display_name": "Python 3 (ipykernel)",
   "language": "python",
   "name": "python3"
  },
  "language_info": {
   "codemirror_mode": {
    "name": "ipython",
    "version": 3
   },
   "file_extension": ".py",
   "mimetype": "text/x-python",
   "name": "python",
   "nbconvert_exporter": "python",
   "pygments_lexer": "ipython3",
   "version": "3.11.7"
  }
 },
 "nbformat": 4,
 "nbformat_minor": 5
}
